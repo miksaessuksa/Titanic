{
 "cells": [
  {
   "cell_type": "markdown",
   "metadata": {
    "_cell_guid": "b1076dfc-b9ad-4769-8c92-a6c4dae69d19",
    "_uuid": "8f2839f25d086af736a60e9eeb907d3b93b6e0e5",
    "execution": {
     "iopub.execute_input": "2022-10-17T18:42:31.606530Z",
     "iopub.status.busy": "2022-10-17T18:42:31.605736Z",
     "iopub.status.idle": "2022-10-17T18:42:31.639255Z",
     "shell.execute_reply": "2022-10-17T18:42:31.638004Z",
     "shell.execute_reply.started": "2022-10-17T18:42:31.606434Z"
    }
   },
   "source": [
    "# This Python 3 environment comes with many helpful analytics libraries installed\n",
    "# It is defined by the kaggle/python Docker image: https://github.com/kaggle/docker-python\n",
    "# For example, here's several helpful packages to load\n",
    "\n",
    "import numpy as np # linear algebra\n",
    "import pandas as pd # data processing, CSV file I/O (e.g. pd.read_csv)\n",
    "\n",
    "# Input data files are available in the read-only \"../input/\" directory\n",
    "# For example, running this (by clicking run or pressing Shift+Enter) will list all files under the input directory\n",
    "\n",
    "import os\n",
    "for dirname, _, filenames in os.walk('/kaggle/input'):\n",
    "    for filename in filenames:\n",
    "        print(os.path.join(dirname, filename))\n",
    "\n",
    "# You can write up to 20GB to the current directory (/kaggle/working/) that gets preserved as output when you create a version using \"Save & Run All\" \n",
    "# You can also write temporary files to /kaggle/temp/, but they won't be saved outside of the current session"
   ]
  },
  {
   "cell_type": "markdown",
   "metadata": {},
   "source": [
    "#### DATASET EXPLORATION AND CLEANING"
   ]
  },
  {
   "cell_type": "code",
   "execution_count": 1,
   "metadata": {
    "execution": {
     "iopub.execute_input": "2022-10-17T18:42:31.642282Z",
     "iopub.status.busy": "2022-10-17T18:42:31.641932Z",
     "iopub.status.idle": "2022-10-17T18:42:31.688380Z",
     "shell.execute_reply": "2022-10-17T18:42:31.687088Z",
     "shell.execute_reply.started": "2022-10-17T18:42:31.642250Z"
    }
   },
   "outputs": [],
   "source": [
    "import numpy as np\n",
    "import pandas as pd\n",
    "import colorama\n",
    "from colorama import Fore, Back, Style\n",
    "\n",
    "#Setting option to show max rows and max columns\n",
    "pd.set_option(\"display.max_columns\",None)\n",
    "pd.set_option(\"display.max_rows\", None)\n",
    "\n",
    "\n",
    "train_dataset=pd.read_csv('train.csv',index_col=0)\n",
    "test_dataset=pd.read_csv('test.csv',index_col=0)"
   ]
  },
  {
   "cell_type": "code",
   "execution_count": 2,
   "metadata": {
    "execution": {
     "iopub.execute_input": "2022-10-17T18:42:31.691540Z",
     "iopub.status.busy": "2022-10-17T18:42:31.690633Z",
     "iopub.status.idle": "2022-10-17T18:42:31.769014Z",
     "shell.execute_reply": "2022-10-17T18:42:31.767637Z",
     "shell.execute_reply.started": "2022-10-17T18:42:31.691506Z"
    }
   },
   "outputs": [
    {
     "name": "stdout",
     "output_type": "stream",
     "text": [
      "\u001b[34mFIRST ROWS OF TITANIC TRAIN DATASET:\n",
      "\n"
     ]
    },
    {
     "data": {
      "text/html": [
       "<div>\n",
       "<style scoped>\n",
       "    .dataframe tbody tr th:only-of-type {\n",
       "        vertical-align: middle;\n",
       "    }\n",
       "\n",
       "    .dataframe tbody tr th {\n",
       "        vertical-align: top;\n",
       "    }\n",
       "\n",
       "    .dataframe thead th {\n",
       "        text-align: right;\n",
       "    }\n",
       "</style>\n",
       "<table border=\"1\" class=\"dataframe\">\n",
       "  <thead>\n",
       "    <tr style=\"text-align: right;\">\n",
       "      <th></th>\n",
       "      <th>Survived</th>\n",
       "      <th>Pclass</th>\n",
       "      <th>Name</th>\n",
       "      <th>Sex</th>\n",
       "      <th>Age</th>\n",
       "      <th>SibSp</th>\n",
       "      <th>Parch</th>\n",
       "      <th>Ticket</th>\n",
       "      <th>Fare</th>\n",
       "      <th>Cabin</th>\n",
       "      <th>Embarked</th>\n",
       "    </tr>\n",
       "    <tr>\n",
       "      <th>PassengerId</th>\n",
       "      <th></th>\n",
       "      <th></th>\n",
       "      <th></th>\n",
       "      <th></th>\n",
       "      <th></th>\n",
       "      <th></th>\n",
       "      <th></th>\n",
       "      <th></th>\n",
       "      <th></th>\n",
       "      <th></th>\n",
       "      <th></th>\n",
       "    </tr>\n",
       "  </thead>\n",
       "  <tbody>\n",
       "    <tr>\n",
       "      <th>1</th>\n",
       "      <td>0</td>\n",
       "      <td>3</td>\n",
       "      <td>Braund, Mr. Owen Harris</td>\n",
       "      <td>male</td>\n",
       "      <td>22.0</td>\n",
       "      <td>1</td>\n",
       "      <td>0</td>\n",
       "      <td>A/5 21171</td>\n",
       "      <td>7.2500</td>\n",
       "      <td>NaN</td>\n",
       "      <td>S</td>\n",
       "    </tr>\n",
       "    <tr>\n",
       "      <th>2</th>\n",
       "      <td>1</td>\n",
       "      <td>1</td>\n",
       "      <td>Cumings, Mrs. John Bradley (Florence Briggs Th...</td>\n",
       "      <td>female</td>\n",
       "      <td>38.0</td>\n",
       "      <td>1</td>\n",
       "      <td>0</td>\n",
       "      <td>PC 17599</td>\n",
       "      <td>71.2833</td>\n",
       "      <td>C85</td>\n",
       "      <td>C</td>\n",
       "    </tr>\n",
       "    <tr>\n",
       "      <th>3</th>\n",
       "      <td>1</td>\n",
       "      <td>3</td>\n",
       "      <td>Heikkinen, Miss. Laina</td>\n",
       "      <td>female</td>\n",
       "      <td>26.0</td>\n",
       "      <td>0</td>\n",
       "      <td>0</td>\n",
       "      <td>STON/O2. 3101282</td>\n",
       "      <td>7.9250</td>\n",
       "      <td>NaN</td>\n",
       "      <td>S</td>\n",
       "    </tr>\n",
       "    <tr>\n",
       "      <th>4</th>\n",
       "      <td>1</td>\n",
       "      <td>1</td>\n",
       "      <td>Futrelle, Mrs. Jacques Heath (Lily May Peel)</td>\n",
       "      <td>female</td>\n",
       "      <td>35.0</td>\n",
       "      <td>1</td>\n",
       "      <td>0</td>\n",
       "      <td>113803</td>\n",
       "      <td>53.1000</td>\n",
       "      <td>C123</td>\n",
       "      <td>S</td>\n",
       "    </tr>\n",
       "    <tr>\n",
       "      <th>5</th>\n",
       "      <td>0</td>\n",
       "      <td>3</td>\n",
       "      <td>Allen, Mr. William Henry</td>\n",
       "      <td>male</td>\n",
       "      <td>35.0</td>\n",
       "      <td>0</td>\n",
       "      <td>0</td>\n",
       "      <td>373450</td>\n",
       "      <td>8.0500</td>\n",
       "      <td>NaN</td>\n",
       "      <td>S</td>\n",
       "    </tr>\n",
       "  </tbody>\n",
       "</table>\n",
       "</div>"
      ],
      "text/plain": [
       "             Survived  Pclass  \\\n",
       "PassengerId                     \n",
       "1                   0       3   \n",
       "2                   1       1   \n",
       "3                   1       3   \n",
       "4                   1       1   \n",
       "5                   0       3   \n",
       "\n",
       "                                                          Name     Sex   Age  \\\n",
       "PassengerId                                                                    \n",
       "1                                      Braund, Mr. Owen Harris    male  22.0   \n",
       "2            Cumings, Mrs. John Bradley (Florence Briggs Th...  female  38.0   \n",
       "3                                       Heikkinen, Miss. Laina  female  26.0   \n",
       "4                 Futrelle, Mrs. Jacques Heath (Lily May Peel)  female  35.0   \n",
       "5                                     Allen, Mr. William Henry    male  35.0   \n",
       "\n",
       "             SibSp  Parch            Ticket     Fare Cabin Embarked  \n",
       "PassengerId                                                          \n",
       "1                1      0         A/5 21171   7.2500   NaN        S  \n",
       "2                1      0          PC 17599  71.2833   C85        C  \n",
       "3                0      0  STON/O2. 3101282   7.9250   NaN        S  \n",
       "4                1      0            113803  53.1000  C123        S  \n",
       "5                0      0            373450   8.0500   NaN        S  "
      ]
     },
     "metadata": {},
     "output_type": "display_data"
    },
    {
     "name": "stdout",
     "output_type": "stream",
     "text": [
      "\u001b[34mINFO SUMMARY FOR TITANIC TRAIN DATASET: \n",
      "\u001b[39m\n",
      "<class 'pandas.core.frame.DataFrame'>\n",
      "Int64Index: 891 entries, 1 to 891\n",
      "Data columns (total 11 columns):\n",
      " #   Column    Non-Null Count  Dtype  \n",
      "---  ------    --------------  -----  \n",
      " 0   Survived  891 non-null    int64  \n",
      " 1   Pclass    891 non-null    int64  \n",
      " 2   Name      891 non-null    object \n",
      " 3   Sex       891 non-null    object \n",
      " 4   Age       714 non-null    float64\n",
      " 5   SibSp     891 non-null    int64  \n",
      " 6   Parch     891 non-null    int64  \n",
      " 7   Ticket    891 non-null    object \n",
      " 8   Fare      891 non-null    float64\n",
      " 9   Cabin     204 non-null    object \n",
      " 10  Embarked  889 non-null    object \n",
      "dtypes: float64(2), int64(4), object(5)\n",
      "memory usage: 83.5+ KB\n"
     ]
    },
    {
     "data": {
      "text/plain": [
       "None"
      ]
     },
     "metadata": {},
     "output_type": "display_data"
    },
    {
     "name": "stdout",
     "output_type": "stream",
     "text": [
      "\u001b[34mDESCRIPTIVE STATS FOR TITANIC TRAIN DATASET: \n",
      "\n"
     ]
    },
    {
     "data": {
      "text/html": [
       "<div>\n",
       "<style scoped>\n",
       "    .dataframe tbody tr th:only-of-type {\n",
       "        vertical-align: middle;\n",
       "    }\n",
       "\n",
       "    .dataframe tbody tr th {\n",
       "        vertical-align: top;\n",
       "    }\n",
       "\n",
       "    .dataframe thead th {\n",
       "        text-align: right;\n",
       "    }\n",
       "</style>\n",
       "<table border=\"1\" class=\"dataframe\">\n",
       "  <thead>\n",
       "    <tr style=\"text-align: right;\">\n",
       "      <th></th>\n",
       "      <th>Survived</th>\n",
       "      <th>Pclass</th>\n",
       "      <th>Age</th>\n",
       "      <th>SibSp</th>\n",
       "      <th>Parch</th>\n",
       "      <th>Fare</th>\n",
       "    </tr>\n",
       "  </thead>\n",
       "  <tbody>\n",
       "    <tr>\n",
       "      <th>count</th>\n",
       "      <td>891.000000</td>\n",
       "      <td>891.000000</td>\n",
       "      <td>714.000000</td>\n",
       "      <td>891.000000</td>\n",
       "      <td>891.000000</td>\n",
       "      <td>891.000000</td>\n",
       "    </tr>\n",
       "    <tr>\n",
       "      <th>mean</th>\n",
       "      <td>0.383838</td>\n",
       "      <td>2.308642</td>\n",
       "      <td>29.699118</td>\n",
       "      <td>0.523008</td>\n",
       "      <td>0.381594</td>\n",
       "      <td>32.204208</td>\n",
       "    </tr>\n",
       "    <tr>\n",
       "      <th>std</th>\n",
       "      <td>0.486592</td>\n",
       "      <td>0.836071</td>\n",
       "      <td>14.526497</td>\n",
       "      <td>1.102743</td>\n",
       "      <td>0.806057</td>\n",
       "      <td>49.693429</td>\n",
       "    </tr>\n",
       "    <tr>\n",
       "      <th>min</th>\n",
       "      <td>0.000000</td>\n",
       "      <td>1.000000</td>\n",
       "      <td>0.420000</td>\n",
       "      <td>0.000000</td>\n",
       "      <td>0.000000</td>\n",
       "      <td>0.000000</td>\n",
       "    </tr>\n",
       "    <tr>\n",
       "      <th>25%</th>\n",
       "      <td>0.000000</td>\n",
       "      <td>2.000000</td>\n",
       "      <td>20.125000</td>\n",
       "      <td>0.000000</td>\n",
       "      <td>0.000000</td>\n",
       "      <td>7.910400</td>\n",
       "    </tr>\n",
       "    <tr>\n",
       "      <th>50%</th>\n",
       "      <td>0.000000</td>\n",
       "      <td>3.000000</td>\n",
       "      <td>28.000000</td>\n",
       "      <td>0.000000</td>\n",
       "      <td>0.000000</td>\n",
       "      <td>14.454200</td>\n",
       "    </tr>\n",
       "    <tr>\n",
       "      <th>75%</th>\n",
       "      <td>1.000000</td>\n",
       "      <td>3.000000</td>\n",
       "      <td>38.000000</td>\n",
       "      <td>1.000000</td>\n",
       "      <td>0.000000</td>\n",
       "      <td>31.000000</td>\n",
       "    </tr>\n",
       "    <tr>\n",
       "      <th>max</th>\n",
       "      <td>1.000000</td>\n",
       "      <td>3.000000</td>\n",
       "      <td>80.000000</td>\n",
       "      <td>8.000000</td>\n",
       "      <td>6.000000</td>\n",
       "      <td>512.329200</td>\n",
       "    </tr>\n",
       "  </tbody>\n",
       "</table>\n",
       "</div>"
      ],
      "text/plain": [
       "         Survived      Pclass         Age       SibSp       Parch        Fare\n",
       "count  891.000000  891.000000  714.000000  891.000000  891.000000  891.000000\n",
       "mean     0.383838    2.308642   29.699118    0.523008    0.381594   32.204208\n",
       "std      0.486592    0.836071   14.526497    1.102743    0.806057   49.693429\n",
       "min      0.000000    1.000000    0.420000    0.000000    0.000000    0.000000\n",
       "25%      0.000000    2.000000   20.125000    0.000000    0.000000    7.910400\n",
       "50%      0.000000    3.000000   28.000000    0.000000    0.000000   14.454200\n",
       "75%      1.000000    3.000000   38.000000    1.000000    0.000000   31.000000\n",
       "max      1.000000    3.000000   80.000000    8.000000    6.000000  512.329200"
      ]
     },
     "metadata": {},
     "output_type": "display_data"
    }
   ],
   "source": [
    "#Visualize the first lines of the train dataset:\n",
    "print(Fore.BLUE+'FIRST ROWS OF TITANIC TRAIN DATASET:\\n')\n",
    "display(train_dataset.head())\n",
    "\n",
    "#Visualize information and statistics about the train dataset:\n",
    "print(Fore.BLUE+'INFO SUMMARY FOR TITANIC TRAIN DATASET: \\n'+Fore.RESET)\n",
    "display(train_dataset.info())\n",
    "\n",
    "print(Fore.BLUE+'DESCRIPTIVE STATS FOR TITANIC TRAIN DATASET: \\n')\n",
    "display(train_dataset.describe())"
   ]
  },
  {
   "cell_type": "code",
   "execution_count": 3,
   "metadata": {
    "execution": {
     "iopub.execute_input": "2022-10-17T18:42:31.772659Z",
     "iopub.status.busy": "2022-10-17T18:42:31.772038Z",
     "iopub.status.idle": "2022-10-17T18:42:31.824456Z",
     "shell.execute_reply": "2022-10-17T18:42:31.823474Z",
     "shell.execute_reply.started": "2022-10-17T18:42:31.772624Z"
    }
   },
   "outputs": [
    {
     "name": "stdout",
     "output_type": "stream",
     "text": [
      "\u001b[34mFIRST ROWS OF TITANIC TEST DATASET:\n",
      "\n"
     ]
    },
    {
     "data": {
      "text/html": [
       "<div>\n",
       "<style scoped>\n",
       "    .dataframe tbody tr th:only-of-type {\n",
       "        vertical-align: middle;\n",
       "    }\n",
       "\n",
       "    .dataframe tbody tr th {\n",
       "        vertical-align: top;\n",
       "    }\n",
       "\n",
       "    .dataframe thead th {\n",
       "        text-align: right;\n",
       "    }\n",
       "</style>\n",
       "<table border=\"1\" class=\"dataframe\">\n",
       "  <thead>\n",
       "    <tr style=\"text-align: right;\">\n",
       "      <th></th>\n",
       "      <th>Pclass</th>\n",
       "      <th>Name</th>\n",
       "      <th>Sex</th>\n",
       "      <th>Age</th>\n",
       "      <th>SibSp</th>\n",
       "      <th>Parch</th>\n",
       "      <th>Ticket</th>\n",
       "      <th>Fare</th>\n",
       "      <th>Cabin</th>\n",
       "      <th>Embarked</th>\n",
       "    </tr>\n",
       "    <tr>\n",
       "      <th>PassengerId</th>\n",
       "      <th></th>\n",
       "      <th></th>\n",
       "      <th></th>\n",
       "      <th></th>\n",
       "      <th></th>\n",
       "      <th></th>\n",
       "      <th></th>\n",
       "      <th></th>\n",
       "      <th></th>\n",
       "      <th></th>\n",
       "    </tr>\n",
       "  </thead>\n",
       "  <tbody>\n",
       "    <tr>\n",
       "      <th>892</th>\n",
       "      <td>3</td>\n",
       "      <td>Kelly, Mr. James</td>\n",
       "      <td>male</td>\n",
       "      <td>34.5</td>\n",
       "      <td>0</td>\n",
       "      <td>0</td>\n",
       "      <td>330911</td>\n",
       "      <td>7.8292</td>\n",
       "      <td>NaN</td>\n",
       "      <td>Q</td>\n",
       "    </tr>\n",
       "    <tr>\n",
       "      <th>893</th>\n",
       "      <td>3</td>\n",
       "      <td>Wilkes, Mrs. James (Ellen Needs)</td>\n",
       "      <td>female</td>\n",
       "      <td>47.0</td>\n",
       "      <td>1</td>\n",
       "      <td>0</td>\n",
       "      <td>363272</td>\n",
       "      <td>7.0000</td>\n",
       "      <td>NaN</td>\n",
       "      <td>S</td>\n",
       "    </tr>\n",
       "    <tr>\n",
       "      <th>894</th>\n",
       "      <td>2</td>\n",
       "      <td>Myles, Mr. Thomas Francis</td>\n",
       "      <td>male</td>\n",
       "      <td>62.0</td>\n",
       "      <td>0</td>\n",
       "      <td>0</td>\n",
       "      <td>240276</td>\n",
       "      <td>9.6875</td>\n",
       "      <td>NaN</td>\n",
       "      <td>Q</td>\n",
       "    </tr>\n",
       "    <tr>\n",
       "      <th>895</th>\n",
       "      <td>3</td>\n",
       "      <td>Wirz, Mr. Albert</td>\n",
       "      <td>male</td>\n",
       "      <td>27.0</td>\n",
       "      <td>0</td>\n",
       "      <td>0</td>\n",
       "      <td>315154</td>\n",
       "      <td>8.6625</td>\n",
       "      <td>NaN</td>\n",
       "      <td>S</td>\n",
       "    </tr>\n",
       "    <tr>\n",
       "      <th>896</th>\n",
       "      <td>3</td>\n",
       "      <td>Hirvonen, Mrs. Alexander (Helga E Lindqvist)</td>\n",
       "      <td>female</td>\n",
       "      <td>22.0</td>\n",
       "      <td>1</td>\n",
       "      <td>1</td>\n",
       "      <td>3101298</td>\n",
       "      <td>12.2875</td>\n",
       "      <td>NaN</td>\n",
       "      <td>S</td>\n",
       "    </tr>\n",
       "  </tbody>\n",
       "</table>\n",
       "</div>"
      ],
      "text/plain": [
       "             Pclass                                          Name     Sex  \\\n",
       "PassengerId                                                                 \n",
       "892               3                              Kelly, Mr. James    male   \n",
       "893               3              Wilkes, Mrs. James (Ellen Needs)  female   \n",
       "894               2                     Myles, Mr. Thomas Francis    male   \n",
       "895               3                              Wirz, Mr. Albert    male   \n",
       "896               3  Hirvonen, Mrs. Alexander (Helga E Lindqvist)  female   \n",
       "\n",
       "              Age  SibSp  Parch   Ticket     Fare Cabin Embarked  \n",
       "PassengerId                                                       \n",
       "892          34.5      0      0   330911   7.8292   NaN        Q  \n",
       "893          47.0      1      0   363272   7.0000   NaN        S  \n",
       "894          62.0      0      0   240276   9.6875   NaN        Q  \n",
       "895          27.0      0      0   315154   8.6625   NaN        S  \n",
       "896          22.0      1      1  3101298  12.2875   NaN        S  "
      ]
     },
     "metadata": {},
     "output_type": "display_data"
    },
    {
     "name": "stdout",
     "output_type": "stream",
     "text": [
      "\u001b[34mINFO SUMMARY FOR TITANIC TEST DATASET: \n",
      "\u001b[39m\n",
      "<class 'pandas.core.frame.DataFrame'>\n",
      "Int64Index: 418 entries, 892 to 1309\n",
      "Data columns (total 10 columns):\n",
      " #   Column    Non-Null Count  Dtype  \n",
      "---  ------    --------------  -----  \n",
      " 0   Pclass    418 non-null    int64  \n",
      " 1   Name      418 non-null    object \n",
      " 2   Sex       418 non-null    object \n",
      " 3   Age       332 non-null    float64\n",
      " 4   SibSp     418 non-null    int64  \n",
      " 5   Parch     418 non-null    int64  \n",
      " 6   Ticket    418 non-null    object \n",
      " 7   Fare      417 non-null    float64\n",
      " 8   Cabin     91 non-null     object \n",
      " 9   Embarked  418 non-null    object \n",
      "dtypes: float64(2), int64(3), object(5)\n",
      "memory usage: 35.9+ KB\n"
     ]
    },
    {
     "data": {
      "text/plain": [
       "None"
      ]
     },
     "metadata": {},
     "output_type": "display_data"
    },
    {
     "name": "stdout",
     "output_type": "stream",
     "text": [
      "\u001b[34mDESCRIPTIVE STATS FOR TITANIC TEST DATASET: \n",
      "\n"
     ]
    },
    {
     "data": {
      "text/html": [
       "<div>\n",
       "<style scoped>\n",
       "    .dataframe tbody tr th:only-of-type {\n",
       "        vertical-align: middle;\n",
       "    }\n",
       "\n",
       "    .dataframe tbody tr th {\n",
       "        vertical-align: top;\n",
       "    }\n",
       "\n",
       "    .dataframe thead th {\n",
       "        text-align: right;\n",
       "    }\n",
       "</style>\n",
       "<table border=\"1\" class=\"dataframe\">\n",
       "  <thead>\n",
       "    <tr style=\"text-align: right;\">\n",
       "      <th></th>\n",
       "      <th>Pclass</th>\n",
       "      <th>Age</th>\n",
       "      <th>SibSp</th>\n",
       "      <th>Parch</th>\n",
       "      <th>Fare</th>\n",
       "    </tr>\n",
       "  </thead>\n",
       "  <tbody>\n",
       "    <tr>\n",
       "      <th>count</th>\n",
       "      <td>418.000000</td>\n",
       "      <td>332.000000</td>\n",
       "      <td>418.000000</td>\n",
       "      <td>418.000000</td>\n",
       "      <td>417.000000</td>\n",
       "    </tr>\n",
       "    <tr>\n",
       "      <th>mean</th>\n",
       "      <td>2.265550</td>\n",
       "      <td>30.272590</td>\n",
       "      <td>0.447368</td>\n",
       "      <td>0.392344</td>\n",
       "      <td>35.627188</td>\n",
       "    </tr>\n",
       "    <tr>\n",
       "      <th>std</th>\n",
       "      <td>0.841838</td>\n",
       "      <td>14.181209</td>\n",
       "      <td>0.896760</td>\n",
       "      <td>0.981429</td>\n",
       "      <td>55.907576</td>\n",
       "    </tr>\n",
       "    <tr>\n",
       "      <th>min</th>\n",
       "      <td>1.000000</td>\n",
       "      <td>0.170000</td>\n",
       "      <td>0.000000</td>\n",
       "      <td>0.000000</td>\n",
       "      <td>0.000000</td>\n",
       "    </tr>\n",
       "    <tr>\n",
       "      <th>25%</th>\n",
       "      <td>1.000000</td>\n",
       "      <td>21.000000</td>\n",
       "      <td>0.000000</td>\n",
       "      <td>0.000000</td>\n",
       "      <td>7.895800</td>\n",
       "    </tr>\n",
       "    <tr>\n",
       "      <th>50%</th>\n",
       "      <td>3.000000</td>\n",
       "      <td>27.000000</td>\n",
       "      <td>0.000000</td>\n",
       "      <td>0.000000</td>\n",
       "      <td>14.454200</td>\n",
       "    </tr>\n",
       "    <tr>\n",
       "      <th>75%</th>\n",
       "      <td>3.000000</td>\n",
       "      <td>39.000000</td>\n",
       "      <td>1.000000</td>\n",
       "      <td>0.000000</td>\n",
       "      <td>31.500000</td>\n",
       "    </tr>\n",
       "    <tr>\n",
       "      <th>max</th>\n",
       "      <td>3.000000</td>\n",
       "      <td>76.000000</td>\n",
       "      <td>8.000000</td>\n",
       "      <td>9.000000</td>\n",
       "      <td>512.329200</td>\n",
       "    </tr>\n",
       "  </tbody>\n",
       "</table>\n",
       "</div>"
      ],
      "text/plain": [
       "           Pclass         Age       SibSp       Parch        Fare\n",
       "count  418.000000  332.000000  418.000000  418.000000  417.000000\n",
       "mean     2.265550   30.272590    0.447368    0.392344   35.627188\n",
       "std      0.841838   14.181209    0.896760    0.981429   55.907576\n",
       "min      1.000000    0.170000    0.000000    0.000000    0.000000\n",
       "25%      1.000000   21.000000    0.000000    0.000000    7.895800\n",
       "50%      3.000000   27.000000    0.000000    0.000000   14.454200\n",
       "75%      3.000000   39.000000    1.000000    0.000000   31.500000\n",
       "max      3.000000   76.000000    8.000000    9.000000  512.329200"
      ]
     },
     "metadata": {},
     "output_type": "display_data"
    }
   ],
   "source": [
    "#Visualize the first lines of the test dataset:\n",
    "print(Fore.BLUE+'FIRST ROWS OF TITANIC TEST DATASET:\\n')\n",
    "display(test_dataset.head())\n",
    "\n",
    "#Visualize information and statistics about the test dataset:\n",
    "print(Fore.BLUE+'INFO SUMMARY FOR TITANIC TEST DATASET: \\n'+Fore.RESET)\n",
    "display(test_dataset.info())\n",
    "\n",
    "print(Fore.BLUE+'DESCRIPTIVE STATS FOR TITANIC TEST DATASET: \\n')\n",
    "display(test_dataset.describe())"
   ]
  },
  {
   "cell_type": "code",
   "execution_count": 4,
   "metadata": {
    "execution": {
     "iopub.execute_input": "2022-10-17T18:42:31.826118Z",
     "iopub.status.busy": "2022-10-17T18:42:31.825737Z",
     "iopub.status.idle": "2022-10-17T18:42:31.839841Z",
     "shell.execute_reply": "2022-10-17T18:42:31.838593Z",
     "shell.execute_reply.started": "2022-10-17T18:42:31.826088Z"
    }
   },
   "outputs": [
    {
     "name": "stdout",
     "output_type": "stream",
     "text": [
      "\u001b[34mDuplicates for TRAIN DATASET: \n",
      "\u001b[39m 0\n",
      "\u001b[34mDuplicates for TEST DATASET: \n",
      "\u001b[39m 0\n"
     ]
    }
   ],
   "source": [
    "#check for duplicate\n",
    "print(Fore.BLUE+'Duplicates for TRAIN DATASET: \\n'+Fore.RESET,train_dataset.duplicated().sum())\n",
    "print(Fore.BLUE+'Duplicates for TEST DATASET: \\n'+Fore.RESET,test_dataset.duplicated().sum())"
   ]
  },
  {
   "cell_type": "code",
   "execution_count": 5,
   "metadata": {
    "execution": {
     "iopub.execute_input": "2022-10-17T18:42:31.842425Z",
     "iopub.status.busy": "2022-10-17T18:42:31.841681Z",
     "iopub.status.idle": "2022-10-17T18:42:31.855926Z",
     "shell.execute_reply": "2022-10-17T18:42:31.854732Z",
     "shell.execute_reply.started": "2022-10-17T18:42:31.842378Z"
    }
   },
   "outputs": [
    {
     "name": "stdout",
     "output_type": "stream",
     "text": [
      "\u001b[34m% NA values for TRAIN DATASET: \n",
      "\u001b[39m Survived     0.000000\n",
      "Pclass       0.000000\n",
      "Name         0.000000\n",
      "Sex          0.000000\n",
      "Age         19.865320\n",
      "SibSp        0.000000\n",
      "Parch        0.000000\n",
      "Ticket       0.000000\n",
      "Fare         0.000000\n",
      "Cabin       77.104377\n",
      "Embarked     0.224467\n",
      "dtype: float64\n",
      "\u001b[34m% NA values for TEST DATASET: \n",
      "\u001b[39m Pclass       0.000000\n",
      "Name         0.000000\n",
      "Sex          0.000000\n",
      "Age         20.574163\n",
      "SibSp        0.000000\n",
      "Parch        0.000000\n",
      "Ticket       0.000000\n",
      "Fare         0.239234\n",
      "Cabin       78.229665\n",
      "Embarked     0.000000\n",
      "dtype: float64\n"
     ]
    }
   ],
   "source": [
    "#Check NA values:\n",
    "print(Fore.BLUE+'% NA values for TRAIN DATASET: \\n'+Fore.RESET,train_dataset.isna().sum()*100/len(train_dataset))\n",
    "print(Fore.BLUE+'% NA values for TEST DATASET: \\n'+Fore.RESET,test_dataset.isna().sum()*100/len(test_dataset))"
   ]
  },
  {
   "cell_type": "code",
   "execution_count": 6,
   "metadata": {},
   "outputs": [
    {
     "name": "stdout",
     "output_type": "stream",
     "text": [
      "\u001b[34m% NA values for TRAIN DATASET: \n",
      "\u001b[39m Survived      0\n",
      "Pclass        0\n",
      "Name          0\n",
      "Sex           0\n",
      "Age         177\n",
      "SibSp         0\n",
      "Parch         0\n",
      "Ticket        0\n",
      "Fare          0\n",
      "Cabin       687\n",
      "Embarked      2\n",
      "dtype: int64\n",
      "\u001b[34m% NA values for TEST DATASET: \n",
      "\u001b[39m Pclass        0\n",
      "Name          0\n",
      "Sex           0\n",
      "Age          86\n",
      "SibSp         0\n",
      "Parch         0\n",
      "Ticket        0\n",
      "Fare          1\n",
      "Cabin       327\n",
      "Embarked      0\n",
      "dtype: int64\n"
     ]
    }
   ],
   "source": [
    "print(Fore.BLUE+'% NA values for TRAIN DATASET: \\n'+Fore.RESET,train_dataset.isna().sum())\n",
    "print(Fore.BLUE+'% NA values for TEST DATASET: \\n'+Fore.RESET,test_dataset.isna().sum())"
   ]
  },
  {
   "cell_type": "code",
   "execution_count": 7,
   "metadata": {
    "execution": {
     "iopub.execute_input": "2022-10-17T18:42:31.857804Z",
     "iopub.status.busy": "2022-10-17T18:42:31.857348Z",
     "iopub.status.idle": "2022-10-17T18:42:31.873901Z",
     "shell.execute_reply": "2022-10-17T18:42:31.872727Z",
     "shell.execute_reply.started": "2022-10-17T18:42:31.857754Z"
    }
   },
   "outputs": [],
   "source": [
    "#Lots of missing values in the columns Age and Cabin. \n",
    "#too many missing values in Cabin: let's drop it. Let's replace missing values of the variable Age\n",
    "train_dataset.drop(['Cabin','Name','Ticket'], inplace=True, axis=1)\n",
    "test_dataset.drop(['Cabin','Name','Ticket'], inplace=True, axis=1)\n",
    "\n",
    "train_dataset['Age'].fillna(train_dataset['Age'].median(),inplace=True)\n",
    "train_dataset['Embarked'].fillna(train_dataset['Embarked'].mode()[0],inplace=True)\n",
    "test_dataset['Age'].fillna(test_dataset['Age'].median(),inplace=True)\n",
    "test_dataset['Fare'].fillna(test_dataset['Fare'].median(),inplace=True)\n"
   ]
  },
  {
   "cell_type": "markdown",
   "metadata": {},
   "source": [
    "#### DATA VISUALISATION"
   ]
  },
  {
   "cell_type": "code",
   "execution_count": 8,
   "metadata": {
    "execution": {
     "iopub.execute_input": "2022-10-17T18:42:31.903589Z",
     "iopub.status.busy": "2022-10-17T18:42:31.903239Z",
     "iopub.status.idle": "2022-10-17T18:42:33.054355Z",
     "shell.execute_reply": "2022-10-17T18:42:33.053116Z",
     "shell.execute_reply.started": "2022-10-17T18:42:31.903560Z"
    }
   },
   "outputs": [],
   "source": [
    "\n",
    "import matplotlib.pyplot as plt\n",
    "%matplotlib inline\n",
    "import seaborn as sns"
   ]
  },
  {
   "cell_type": "code",
   "execution_count": 9,
   "metadata": {
    "execution": {
     "iopub.execute_input": "2022-10-17T19:57:55.422846Z",
     "iopub.status.busy": "2022-10-17T19:57:55.422386Z",
     "iopub.status.idle": "2022-10-17T19:57:55.435725Z",
     "shell.execute_reply": "2022-10-17T19:57:55.434221Z",
     "shell.execute_reply.started": "2022-10-17T19:57:55.422809Z"
    }
   },
   "outputs": [
    {
     "name": "stdout",
     "output_type": "stream",
     "text": [
      "male      577\n",
      "female    314\n",
      "Name: Sex, dtype: int64\n",
      "S    646\n",
      "C    168\n",
      "Q     77\n",
      "Name: Embarked, dtype: int64\n"
     ]
    }
   ],
   "source": [
    "feats_cat=list(train_dataset.select_dtypes(include='object'))\n",
    "\n",
    "for feats in train_dataset[feats_cat]:\n",
    "    print(train_dataset[feats].value_counts())"
   ]
  },
  {
   "cell_type": "raw",
   "metadata": {
    "execution": {
     "iopub.execute_input": "2022-10-17T19:03:43.827147Z",
     "iopub.status.busy": "2022-10-17T19:03:43.826713Z",
     "iopub.status.idle": "2022-10-17T19:03:43.849563Z",
     "shell.execute_reply": "2022-10-17T19:03:43.847825Z",
     "shell.execute_reply.started": "2022-10-17T19:03:43.827116Z"
    }
   },
   "source": [
    "df1=pd.DataFrame(train_dataset['Survived'].value_counts(normalize=True))\n",
    "df1=df1.mul(100)\n",
    "df1.columns=['percent']\n",
    "df1=df1.rename_axis('Survived').reset_index()\n",
    "\n",
    "plt.box( data=df1)"
   ]
  },
  {
   "cell_type": "code",
   "execution_count": 10,
   "metadata": {
    "execution": {
     "iopub.execute_input": "2022-10-17T19:58:39.971707Z",
     "iopub.status.busy": "2022-10-17T19:58:39.971284Z",
     "iopub.status.idle": "2022-10-17T19:58:40.111147Z",
     "shell.execute_reply": "2022-10-17T19:58:40.109546Z",
     "shell.execute_reply.started": "2022-10-17T19:58:39.971658Z"
    }
   },
   "outputs": [
    {
     "name": "stderr",
     "output_type": "stream",
     "text": [
      "C:\\Users\\celin\\anaconda3\\lib\\site-packages\\seaborn\\_decorators.py:36: FutureWarning: Pass the following variable as a keyword arg: x. From version 0.12, the only valid positional argument will be `data`, and passing other arguments without an explicit keyword will result in an error or misinterpretation.\n",
      "  warnings.warn(\n"
     ]
    },
    {
     "data": {
      "image/png": "[encoded data removed]",
      "text/plain": [
       "<Figure size 432x288 with 1 Axes>"
      ]
     },
     "metadata": {
      "needs_background": "light"
     },
     "output_type": "display_data"
    }
   ],
   "source": [
    "#fig,ax=plt.subplots(figsize=(5,5))\n",
    "\n",
    "ax=sns.countplot(train_dataset['Survived'])\n",
    "for p in ax.patches:\n",
    "    percent = '{:.2f}%'.format(100 * p.get_height()/len(train_dataset))\n",
    "    x = p.get_x()\n",
    "    y = p.get_height()\n",
    "    ax.text(x,y,percent)\n",
    "\n",
    "#as expected dataset is imbalanced"
   ]
  },
  {
   "cell_type": "code",
   "execution_count": 11,
   "metadata": {
    "execution": {
     "iopub.execute_input": "2022-10-17T19:58:40.400985Z",
     "iopub.status.busy": "2022-10-17T19:58:40.399906Z",
     "iopub.status.idle": "2022-10-17T19:58:41.039527Z",
     "shell.execute_reply": "2022-10-17T19:58:41.038460Z",
     "shell.execute_reply.started": "2022-10-17T19:58:40.400945Z"
    }
   },
   "outputs": [
    {
     "data": {
      "image/png": "[encoded data removed]",
      "text/plain": [
       "<Figure size 432x288 with 1 Axes>"
      ]
     },
     "metadata": {
      "needs_background": "light"
     },
     "output_type": "display_data"
    },
    {
     "data": {
      "image/png": "[encoded data removed]",
      "text/plain": [
       "<Figure size 411.875x360 with 1 Axes>"
      ]
     },
     "metadata": {
      "needs_background": "light"
     },
     "output_type": "display_data"
    }
   ],
   "source": [
    "\n",
    "f=sns.countplot(x='Pclass',hue='Survived', data=train_dataset)\n",
    "f.set_title('Survival per ticket class category')\n",
    "\n",
    "x,y='Pclass','Survived'\n",
    "df1 = train_dataset.groupby(x)[y].value_counts(normalize=True)\n",
    "df1 = df1.mul(100)\n",
    "df1 = df1.rename('percent').reset_index()\n",
    "\n",
    "\n",
    "g = sns.catplot(x=x,y='percent',hue=y,kind='bar',data=df1)\n",
    "g.ax.set_ylim(0,100)\n",
    "g.fig.suptitle('Survival percentage per ticket class category')\n",
    "\n",
    "for p in g.ax.patches:\n",
    "    txt = str(p.get_height().round(2)) + '%'\n",
    "    txt_x = p.get_x() \n",
    "    txt_y = p.get_height()\n",
    "    g.ax.text(txt_x,txt_y,txt)\n"
   ]
  },
  {
   "cell_type": "code",
   "execution_count": 12,
   "metadata": {
    "execution": {
     "iopub.execute_input": "2022-10-17T19:58:41.042386Z",
     "iopub.status.busy": "2022-10-17T19:58:41.041833Z",
     "iopub.status.idle": "2022-10-17T19:58:41.644190Z",
     "shell.execute_reply": "2022-10-17T19:58:41.642959Z",
     "shell.execute_reply.started": "2022-10-17T19:58:41.042343Z"
    }
   },
   "outputs": [
    {
     "data": {
      "image/png": "[encoded data removed]",
      "text/plain": [
       "<Figure size 432x288 with 1 Axes>"
      ]
     },
     "metadata": {
      "needs_background": "light"
     },
     "output_type": "display_data"
    },
    {
     "data": {
      "image/png": "[encoded data removed]",
      "text/plain": [
       "<Figure size 411.875x360 with 1 Axes>"
      ]
     },
     "metadata": {
      "needs_background": "light"
     },
     "output_type": "display_data"
    }
   ],
   "source": [
    "\n",
    "f=sns.countplot(x='Sex',data=train_dataset, hue='Survived')\n",
    "f.set_title('Survival count per gender')\n",
    "x,y='Sex','Survived'\n",
    "df2=train_dataset.groupby(x)[y].value_counts(normalize=True)\n",
    "df2=df2.mul(100)\n",
    "df2=df2.rename('percent').reset_index()\n",
    "\n",
    "g=sns.catplot(x=x, y='percent', hue=y,kind='bar', data=df2)\n",
    "g.ax.set_ylim(0,100)\n",
    "g.fig.suptitle('Survival percentage per gender')\n",
    "for p in g.ax.patches:\n",
    "    txt=str(p.get_height().round(2))+ '%'\n",
    "    txt_x=p.get_x()\n",
    "    txt_y=p.get_height()\n",
    "    g.ax.text(txt_x,txt_y,txt)\n",
    "    "
   ]
  },
  {
   "cell_type": "code",
   "execution_count": 13,
   "metadata": {
    "execution": {
     "iopub.execute_input": "2022-10-17T19:58:41.649634Z",
     "iopub.status.busy": "2022-10-17T19:58:41.649214Z",
     "iopub.status.idle": "2022-10-17T19:58:42.916035Z",
     "shell.execute_reply": "2022-10-17T19:58:42.914886Z",
     "shell.execute_reply.started": "2022-10-17T19:58:41.649600Z"
    }
   },
   "outputs": [
    {
     "data": {
      "image/png": "[encoded data removed]",
      "text/plain": [
       "<Figure size 432x288 with 1 Axes>"
      ]
     },
     "metadata": {
      "needs_background": "light"
     },
     "output_type": "display_data"
    },
    {
     "data": {
      "image/png": "[encoded data removed]",
      "text/plain": [
       "<Figure size 411.875x360 with 1 Axes>"
      ]
     },
     "metadata": {
      "needs_background": "light"
     },
     "output_type": "display_data"
    }
   ],
   "source": [
    "f=sns.countplot(x='Embarked',hue='Survived',data=train_dataset)\n",
    "f.set_title('Survival per port of embarkation')\n",
    "\n",
    "x,y='Embarked','Survived'\n",
    "df3=train_dataset.groupby(x)[y].value_counts(normalize=True)\n",
    "df3=df3.mul(100)\n",
    "df3=df3.rename('percent').reset_index()\n",
    "\n",
    "\n",
    "g=sns.catplot(x=x, y='percent', hue=y,kind='bar', data=df3)\n",
    "g.fig.suptitle('Survival percent per port of embarkation')\n",
    "g.ax.set_ylim(0,100)\n",
    "for p in g.ax.patches:\n",
    "    txt=str(p.get_height().round(2))+'%'\n",
    "    txt_x=p.get_x()\n",
    "    txt_y=p.get_height()\n",
    "    g.ax.text(txt_x,txt_y,txt)\n",
    " \n",
    "    "
   ]
  },
  {
   "cell_type": "code",
   "execution_count": 14,
   "metadata": {
    "execution": {
     "iopub.execute_input": "2022-10-17T19:58:42.918086Z",
     "iopub.status.busy": "2022-10-17T19:58:42.917774Z",
     "iopub.status.idle": "2022-10-17T19:58:43.223469Z",
     "shell.execute_reply": "2022-10-17T19:58:43.221949Z",
     "shell.execute_reply.started": "2022-10-17T19:58:42.918057Z"
    }
   },
   "outputs": [
    {
     "data": {
      "text/html": [
       "<div>\n",
       "<style scoped>\n",
       "    .dataframe tbody tr th:only-of-type {\n",
       "        vertical-align: middle;\n",
       "    }\n",
       "\n",
       "    .dataframe tbody tr th {\n",
       "        vertical-align: top;\n",
       "    }\n",
       "\n",
       "    .dataframe thead th {\n",
       "        text-align: right;\n",
       "    }\n",
       "</style>\n",
       "<table border=\"1\" class=\"dataframe\">\n",
       "  <thead>\n",
       "    <tr style=\"text-align: right;\">\n",
       "      <th></th>\n",
       "      <th>SibSp</th>\n",
       "      <th>Survived</th>\n",
       "      <th>percent</th>\n",
       "    </tr>\n",
       "  </thead>\n",
       "  <tbody>\n",
       "    <tr>\n",
       "      <th>0</th>\n",
       "      <td>0</td>\n",
       "      <td>0</td>\n",
       "      <td>65.46</td>\n",
       "    </tr>\n",
       "    <tr>\n",
       "      <th>1</th>\n",
       "      <td>0</td>\n",
       "      <td>1</td>\n",
       "      <td>34.54</td>\n",
       "    </tr>\n",
       "    <tr>\n",
       "      <th>2</th>\n",
       "      <td>1</td>\n",
       "      <td>1</td>\n",
       "      <td>53.59</td>\n",
       "    </tr>\n",
       "    <tr>\n",
       "      <th>3</th>\n",
       "      <td>1</td>\n",
       "      <td>0</td>\n",
       "      <td>46.41</td>\n",
       "    </tr>\n",
       "    <tr>\n",
       "      <th>4</th>\n",
       "      <td>2</td>\n",
       "      <td>0</td>\n",
       "      <td>53.57</td>\n",
       "    </tr>\n",
       "    <tr>\n",
       "      <th>5</th>\n",
       "      <td>2</td>\n",
       "      <td>1</td>\n",
       "      <td>46.43</td>\n",
       "    </tr>\n",
       "    <tr>\n",
       "      <th>6</th>\n",
       "      <td>3</td>\n",
       "      <td>0</td>\n",
       "      <td>75.00</td>\n",
       "    </tr>\n",
       "    <tr>\n",
       "      <th>7</th>\n",
       "      <td>3</td>\n",
       "      <td>1</td>\n",
       "      <td>25.00</td>\n",
       "    </tr>\n",
       "    <tr>\n",
       "      <th>8</th>\n",
       "      <td>4</td>\n",
       "      <td>0</td>\n",
       "      <td>83.33</td>\n",
       "    </tr>\n",
       "    <tr>\n",
       "      <th>9</th>\n",
       "      <td>4</td>\n",
       "      <td>1</td>\n",
       "      <td>16.67</td>\n",
       "    </tr>\n",
       "    <tr>\n",
       "      <th>10</th>\n",
       "      <td>5</td>\n",
       "      <td>0</td>\n",
       "      <td>100.00</td>\n",
       "    </tr>\n",
       "    <tr>\n",
       "      <th>11</th>\n",
       "      <td>8</td>\n",
       "      <td>0</td>\n",
       "      <td>100.00</td>\n",
       "    </tr>\n",
       "  </tbody>\n",
       "</table>\n",
       "</div>"
      ],
      "text/plain": [
       "    SibSp  Survived  percent\n",
       "0       0         0    65.46\n",
       "1       0         1    34.54\n",
       "2       1         1    53.59\n",
       "3       1         0    46.41\n",
       "4       2         0    53.57\n",
       "5       2         1    46.43\n",
       "6       3         0    75.00\n",
       "7       3         1    25.00\n",
       "8       4         0    83.33\n",
       "9       4         1    16.67\n",
       "10      5         0   100.00\n",
       "11      8         0   100.00"
      ]
     },
     "execution_count": 14,
     "metadata": {},
     "output_type": "execute_result"
    },
    {
     "data": {
      "image/png": "[encoded data removed]",
      "text/plain": [
       "<Figure size 432x288 with 1 Axes>"
      ]
     },
     "metadata": {
      "needs_background": "light"
     },
     "output_type": "display_data"
    }
   ],
   "source": [
    "f=sns.countplot(x='SibSp', hue='Survived', data=train_dataset)\n",
    "x,y='SibSp','Survived'\n",
    "df4=train_dataset.groupby(x)[y].value_counts(normalize=True)\n",
    "df4=df4.mul(100).round(2)\n",
    "df4.rename('percent').reset_index()\n",
    "\n"
   ]
  },
  {
   "cell_type": "code",
   "execution_count": 15,
   "metadata": {
    "execution": {
     "iopub.execute_input": "2022-10-17T20:00:18.977460Z",
     "iopub.status.busy": "2022-10-17T20:00:18.977053Z",
     "iopub.status.idle": "2022-10-17T20:00:19.212327Z",
     "shell.execute_reply": "2022-10-17T20:00:19.210728Z",
     "shell.execute_reply.started": "2022-10-17T20:00:18.977425Z"
    }
   },
   "outputs": [
    {
     "data": {
      "text/plain": [
       "<AxesSubplot:xlabel='Survived', ylabel='Age'>"
      ]
     },
     "execution_count": 15,
     "metadata": {},
     "output_type": "execute_result"
    },
    {
     "data": {
      "image/png": "[encoded data removed]",
      "text/plain": [
       "<Figure size 432x288 with 1 Axes>"
      ]
     },
     "metadata": {
      "needs_background": "light"
     },
     "output_type": "display_data"
    }
   ],
   "source": [
    "sns.boxplot(x='Survived',y='Age',data=train_dataset)"
   ]
  },
  {
   "cell_type": "code",
   "execution_count": 16,
   "metadata": {
    "execution": {
     "iopub.execute_input": "2022-10-17T20:00:35.902333Z",
     "iopub.status.busy": "2022-10-17T20:00:35.901897Z",
     "iopub.status.idle": "2022-10-17T20:00:36.235798Z",
     "shell.execute_reply": "2022-10-17T20:00:36.234730Z",
     "shell.execute_reply.started": "2022-10-17T20:00:35.902299Z"
    }
   },
   "outputs": [
    {
     "data": {
      "image/png": "[encoded data removed]",
      "text/plain": [
       "<Figure size 864x576 with 2 Axes>"
      ]
     },
     "metadata": {
      "needs_background": "light"
     },
     "output_type": "display_data"
    }
   ],
   "source": [
    "plt.figure(figsize=(12,8))\n",
    "sns.heatmap(train_dataset.assign(Pclass = train_dataset.Pclass.astype('category').cat.codes,\n",
    "                      Sex = train_dataset.Sex.astype('category').cat.codes,\n",
    "                      Embarked = train_dataset.Embarked.astype('category').cat.codes).corr(),\n",
    "                    \n",
    "                      annot = False, cmap = 'bwr',vmin = -1, vmax = 1, square = True, linewidths = 0.5)\n",
    "plt.show()\n"
   ]
  },
  {
   "cell_type": "code",
   "execution_count": 17,
   "metadata": {
    "execution": {
     "iopub.execute_input": "2022-10-17T20:08:02.914318Z",
     "iopub.status.busy": "2022-10-17T20:08:02.913917Z",
     "iopub.status.idle": "2022-10-17T20:08:02.923743Z",
     "shell.execute_reply": "2022-10-17T20:08:02.922751Z",
     "shell.execute_reply.started": "2022-10-17T20:08:02.914285Z"
    }
   },
   "outputs": [
    {
     "name": "stdout",
     "output_type": "stream",
     "text": [
      "Age      0.064910\n",
      "SibSp    0.035322\n",
      "Parch    0.081629\n",
      "Name: Survived, dtype: float64\n"
     ]
    }
   ],
   "source": [
    "cor=train_dataset.corr()\n",
    "cor_target=abs(cor['Survived'])\n",
    "non_relevant_features = cor_target[cor_target<0.2]\n",
    "print(non_relevant_features)"
   ]
  },
  {
   "cell_type": "code",
   "execution_count": 18,
   "metadata": {
    "execution": {
     "iopub.execute_input": "2022-10-17T20:08:06.748647Z",
     "iopub.status.busy": "2022-10-17T20:08:06.748237Z",
     "iopub.status.idle": "2022-10-17T20:08:06.756877Z",
     "shell.execute_reply": "2022-10-17T20:08:06.755719Z",
     "shell.execute_reply.started": "2022-10-17T20:08:06.748615Z"
    }
   },
   "outputs": [],
   "source": [
    "train_dataset.drop(non_relevant_features.index, axis=1,inplace=True)\n",
    "test_dataset.drop(non_relevant_features.index, axis=1,inplace=True)"
   ]
  },
  {
   "cell_type": "code",
   "execution_count": 19,
   "metadata": {
    "execution": {
     "iopub.execute_input": "2022-10-17T20:08:09.266106Z",
     "iopub.status.busy": "2022-10-17T20:08:09.264656Z",
     "iopub.status.idle": "2022-10-17T20:08:09.281268Z",
     "shell.execute_reply": "2022-10-17T20:08:09.279763Z",
     "shell.execute_reply.started": "2022-10-17T20:08:09.266041Z"
    }
   },
   "outputs": [
    {
     "name": "stdout",
     "output_type": "stream",
     "text": [
      "<class 'pandas.core.frame.DataFrame'>\n",
      "Int64Index: 891 entries, 1 to 891\n",
      "Data columns (total 5 columns):\n",
      " #   Column    Non-Null Count  Dtype  \n",
      "---  ------    --------------  -----  \n",
      " 0   Survived  891 non-null    int64  \n",
      " 1   Pclass    891 non-null    int64  \n",
      " 2   Sex       891 non-null    object \n",
      " 3   Fare      891 non-null    float64\n",
      " 4   Embarked  891 non-null    object \n",
      "dtypes: float64(1), int64(2), object(2)\n",
      "memory usage: 41.8+ KB\n"
     ]
    }
   ],
   "source": [
    "\n",
    "train_dataset.info()"
   ]
  },
  {
   "cell_type": "code",
   "execution_count": 20,
   "metadata": {
    "execution": {
     "iopub.execute_input": "2022-10-17T20:08:18.066805Z",
     "iopub.status.busy": "2022-10-17T20:08:18.066365Z",
     "iopub.status.idle": "2022-10-17T20:08:18.073718Z",
     "shell.execute_reply": "2022-10-17T20:08:18.072252Z",
     "shell.execute_reply.started": "2022-10-17T20:08:18.066766Z"
    }
   },
   "outputs": [],
   "source": [
    "y_train=train_dataset['Survived']\n",
    "X_train=train_dataset.drop('Survived', axis=1)"
   ]
  },
  {
   "cell_type": "code",
   "execution_count": 21,
   "metadata": {},
   "outputs": [],
   "source": [
    "from imblearn.over_sampling import RandomOverSampler\n",
    "ros = RandomOverSampler()\n",
    "X_train, y_train = ros.fit_resample(X_train, y_train)"
   ]
  },
  {
   "cell_type": "code",
   "execution_count": 22,
   "metadata": {},
   "outputs": [
    {
     "name": "stdout",
     "output_type": "stream",
     "text": [
      "Counter({0: 549, 1: 549})\n"
     ]
    }
   ],
   "source": [
    "from collections import Counter\n",
    "print (Counter(y_train))"
   ]
  },
  {
   "cell_type": "code",
   "execution_count": 23,
   "metadata": {
    "execution": {
     "iopub.execute_input": "2022-10-17T20:11:28.923076Z",
     "iopub.status.busy": "2022-10-17T20:11:28.922021Z",
     "iopub.status.idle": "2022-10-17T20:11:29.012778Z",
     "shell.execute_reply": "2022-10-17T20:11:29.011791Z",
     "shell.execute_reply.started": "2022-10-17T20:11:28.923029Z"
    }
   },
   "outputs": [],
   "source": [
    "from sklearn.preprocessing import OrdinalEncoder\n",
    "feats_cat=list(X_train.select_dtypes(include='object'))\n",
    "feats_num=list(X_train.select_dtypes(exclude='object'))\n",
    "\n",
    "# Create encoder\n",
    "oe = OrdinalEncoder()\n",
    "\n",
    "# Fit on training data and transform\n",
    "X_train[feats_cat] = oe.fit_transform( X_train[feats_cat])\n",
    "X_test=test_dataset\n",
    "X_test[feats_cat]=oe.transform(X_test[feats_cat])"
   ]
  },
  {
   "cell_type": "code",
   "execution_count": 24,
   "metadata": {
    "execution": {
     "iopub.execute_input": "2022-10-17T20:11:29.437919Z",
     "iopub.status.busy": "2022-10-17T20:11:29.437175Z",
     "iopub.status.idle": "2022-10-17T20:11:29.454038Z",
     "shell.execute_reply": "2022-10-17T20:11:29.452790Z",
     "shell.execute_reply.started": "2022-10-17T20:11:29.437880Z"
    }
   },
   "outputs": [],
   "source": [
    "from sklearn.preprocessing import MinMaxScaler\n",
    "scaler=MinMaxScaler()\n",
    "X_train[X_train.columns]= scaler.fit_transform(X_train[X_train.columns])\n",
    "X_test[X_test.columns]=scaler.transform(X_test[X_test.columns])"
   ]
  },
  {
   "cell_type": "markdown",
   "metadata": {},
   "source": [
    "#### Support Vector Machine"
   ]
  },
  {
   "cell_type": "code",
   "execution_count": 25,
   "metadata": {
    "execution": {
     "iopub.execute_input": "2022-10-17T20:22:30.759535Z",
     "iopub.status.busy": "2022-10-17T20:22:30.759109Z"
    }
   },
   "outputs": [
    {
     "data": {
      "text/plain": [
       "GridSearchCV(cv=5, estimator=SVC(),\n",
       "             param_grid={'C': [1, 5], 'gamma': ('scale', 'auto'),\n",
       "                         'kernel': ('linear', 'rbf', 'poly', 'sigmoid')})"
      ]
     },
     "execution_count": 25,
     "metadata": {},
     "output_type": "execute_result"
    }
   ],
   "source": [
    "from sklearn.svm import SVC\n",
    "from sklearn.model_selection import GridSearchCV\n",
    "SVM=SVC()\n",
    "parameters = {'kernel':('linear', 'rbf','poly','sigmoid'), 'C':[1, 5],'gamma':('scale', 'auto')}\n",
    "\n",
    "clf = GridSearchCV(SVM, parameters, cv=5)\n",
    "clf.fit(X_train, y_train)"
   ]
  },
  {
   "cell_type": "code",
   "execution_count": 26,
   "metadata": {
    "execution": {
     "iopub.execute_input": "2022-10-18T08:24:33.642068Z",
     "iopub.status.busy": "2022-10-18T08:24:33.640036Z",
     "iopub.status.idle": "2022-10-18T08:24:33.735816Z",
     "shell.execute_reply": "2022-10-18T08:24:33.734015Z",
     "shell.execute_reply.started": "2022-10-18T08:24:33.641901Z"
    }
   },
   "outputs": [
    {
     "name": "stdout",
     "output_type": "stream",
     "text": [
      "{'C': 5, 'gamma': 'scale', 'kernel': 'rbf'}\n"
     ]
    }
   ],
   "source": [
    "print(clf.best_params_)\n"
   ]
  },
  {
   "cell_type": "code",
   "execution_count": 27,
   "metadata": {},
   "outputs": [
    {
     "name": "stdout",
     "output_type": "stream",
     "text": [
      "\u001b[34mTesting performance\u001b[39m\n",
      "SVC score:0.77 \n",
      "\u001b[34mClassification report:\n",
      "\u001b[39m               precision    recall  f1-score   support\n",
      "\n",
      "           0       0.85      0.73      0.79       641\n",
      "           1       0.68      0.82      0.75       457\n",
      "\n",
      "    accuracy                           0.77      1098\n",
      "   macro avg       0.77      0.78      0.77      1098\n",
      "weighted avg       0.78      0.77      0.77      1098\n",
      "\n"
     ]
    }
   ],
   "source": [
    "from sklearn.metrics import classification_report\n",
    "\n",
    "SVM_opt=SVC(C=1,gamma='auto',kernel='sigmoid')\n",
    "SVM_opt.fit(X_train,y_train)\n",
    "SVM_pred_train=SVM_opt.predict(X_train)\n",
    "print(Fore.BLUE+\"Testing performance\"+Fore.RESET)\n",
    "print (\"SVC score:{:.2f} \".format(SVM_opt.score(X_train, y_train)))\n",
    "print(Fore.BLUE+\"Classification report:\\n\"+Fore.RESET,classification_report(SVM_pred_train, y_train))"
   ]
  },
  {
   "cell_type": "code",
   "execution_count": 28,
   "metadata": {},
   "outputs": [],
   "source": [
    "SVM_pred_test=SVM_opt.predict(X_test)\n",
    "submission_titanic_3 = pd.DataFrame({'PassengerId':X_test.index, 'Survived':SVM_pred_test})\n",
    "submission_titanic_3.set_index('PassengerId',inplace=True)\n",
    "submission_titanic_3.to_csv('submission_titanic_3.csv')\n",
    "\n"
   ]
  },
  {
   "cell_type": "code",
   "execution_count": 29,
   "metadata": {},
   "outputs": [
    {
     "name": "stdout",
     "output_type": "stream",
     "text": [
      "0.8288418430884184\n",
      "{'estimator__learning_rate': 0.3, 'estimator__loss': 'deviance', 'estimator__max_features': 'auto', 'selection__k': 'all'}\n"
     ]
    },
    {
     "name": "stderr",
     "output_type": "stream",
     "text": [
      "C:\\Users\\celin\\anaconda3\\lib\\site-packages\\sklearn\\model_selection\\_validation.py:372: FitFailedWarning: \n",
      "180 fits failed out of a total of 540.\n",
      "The score on these train-test partitions for these parameters will be set to nan.\n",
      "If these failures are not expected, you can try to debug them by setting error_score='raise'.\n",
      "\n",
      "Below are more details about the failures:\n",
      "--------------------------------------------------------------------------------\n",
      "180 fits failed with the following error:\n",
      "Traceback (most recent call last):\n",
      "  File \"C:\\Users\\celin\\anaconda3\\lib\\site-packages\\sklearn\\model_selection\\_validation.py\", line 680, in _fit_and_score\n",
      "    estimator.fit(X_train, y_train, **fit_params)\n",
      "  File \"C:\\Users\\celin\\anaconda3\\lib\\site-packages\\sklearn\\pipeline.py\", line 394, in fit\n",
      "    self._final_estimator.fit(Xt, y, **fit_params_last_step)\n",
      "  File \"C:\\Users\\celin\\anaconda3\\lib\\site-packages\\sklearn\\ensemble\\_gb.py\", line 525, in fit\n",
      "    self._check_params()\n",
      "  File \"C:\\Users\\celin\\anaconda3\\lib\\site-packages\\sklearn\\ensemble\\_gb.py\", line 282, in _check_params\n",
      "    raise ValueError(\"Loss '{0:s}' not supported. \".format(self.loss))\n",
      "ValueError: Loss 'log_loss' not supported. \n",
      "\n",
      "  warnings.warn(some_fits_failed_message, FitFailedWarning)\n",
      "C:\\Users\\celin\\anaconda3\\lib\\site-packages\\sklearn\\model_selection\\_search.py:969: UserWarning: One or more of the test scores are non-finite: [       nan        nan        nan        nan        nan        nan\n",
      "        nan        nan        nan        nan        nan        nan\n",
      " 0.76868825 0.75596098 0.81700291 0.80972603 0.76868825 0.75596098\n",
      " 0.80879618 0.79969697 0.76868825 0.75596098 0.80514736 0.79879203\n",
      " 0.76868825 0.75596098 0.81334164 0.81608136 0.76868825 0.75596098\n",
      " 0.80059776 0.79606476 0.76868825 0.75596098 0.79695724 0.80787464\n",
      "        nan        nan        nan        nan        nan        nan\n",
      "        nan        nan        nan        nan        nan        nan\n",
      " 0.76868825 0.75596098 0.8279369  0.81882524 0.76868825 0.75596098\n",
      " 0.81880863 0.82337069 0.76868825 0.75596098 0.8069946  0.81154421\n",
      " 0.76868825 0.75596098 0.81701121 0.82246575 0.76868825 0.75596098\n",
      " 0.81515982 0.81791615 0.76868825 0.75596098 0.81335409 0.80973018\n",
      "        nan        nan        nan        nan        nan        nan\n",
      "        nan        nan        nan        nan        nan        nan\n",
      " 0.76868825 0.75596098 0.82066833 0.82884184 0.76868825 0.75596098\n",
      " 0.82519718 0.82521378 0.76868825 0.75596098 0.82519718 0.82612287\n",
      " 0.76868825 0.75596098 0.82065172 0.82154836 0.76868825 0.75596098\n",
      " 0.81881279 0.82154836 0.76868825 0.75596098 0.81790785 0.8169946 ]\n",
      "  warnings.warn(\n"
     ]
    }
   ],
   "source": [
    "from sklearn.ensemble import GradientBoostingClassifier\n",
    "GBC=GradientBoostingClassifier()\n",
    "from sklearn.feature_selection import SelectKBest\n",
    "from sklearn.pipeline import Pipeline\n",
    "from sklearn.model_selection import GridSearchCV\n",
    "\n",
    "\n",
    "selector=SelectKBest()\n",
    "GBC=GradientBoostingClassifier()\n",
    "GBC_pipe=Pipeline(steps=[('selection',selector),\n",
    "                         ('estimator',GBC)])\n",
    "\n",
    "param_grid = {\n",
    "    'selection__k' : [1, 2, 3, 'all'], \n",
    "     'estimator__loss':['log_loss','deviance','exponential'],\n",
    "     'estimator__learning_rate':[0.1,0.2,0.3],\n",
    "      'estimator__max_features':['auto', 'sqrt', 'log2']\n",
    "}\n",
    "\n",
    "grid=GridSearchCV(param_grid=param_grid,estimator=GBC_pipe,cv=5)\n",
    "\n",
    "grid.fit(X_train, y_train)\n",
    "print(grid.best_score_)\n",
    "print(grid.best_params_)"
   ]
  },
  {
   "cell_type": "code",
   "execution_count": 30,
   "metadata": {},
   "outputs": [
    {
     "name": "stdout",
     "output_type": "stream",
     "text": [
      "\u001b[34mTesting performance\u001b[39m\n",
      "GBC score:0.90 \n",
      "\u001b[34mClassification report:\n",
      "\u001b[39m               precision    recall  f1-score   support\n",
      "\n",
      "           0       0.92      0.88      0.90       573\n",
      "           1       0.88      0.92      0.90       525\n",
      "\n",
      "    accuracy                           0.90      1098\n",
      "   macro avg       0.90      0.90      0.90      1098\n",
      "weighted avg       0.90      0.90      0.90      1098\n",
      "\n"
     ]
    }
   ],
   "source": [
    "sel = SelectKBest( k=3)\n",
    "sel.fit(X_train,y_train)\n",
    "\n",
    "#Training and predictions\n",
    "X_train_sel = sel.transform(X_train)\n",
    "X_test_sel = sel.transform(X_test)\n",
    "GBC_opt = GradientBoostingClassifier( learning_rate=0.3, random_state=49,\n",
    " loss='deviance', max_features='auto')\n",
    "GBC_opt.fit(X_train_sel, y_train)\n",
    "\n",
    "#Predictions\n",
    "GBC_pred_train=GBC_opt.predict(X_train_sel)\n",
    "print(Fore.BLUE+\"Testing performance\"+Fore.RESET)\n",
    "print (\"GBC score:{:.2f} \".format(GBC_opt.score(X_train_sel, y_train)))\n",
    "print(Fore.BLUE+\"Classification report:\\n\"+Fore.RESET,classification_report(GBC_pred_train, y_train))"
   ]
  },
  {
   "cell_type": "code",
   "execution_count": 31,
   "metadata": {},
   "outputs": [],
   "source": [
    "GBC_pred_test=GBC_opt.predict(X_test_sel)\n",
    "submission_titanic_4 = pd.DataFrame({'PassengerId':X_test.index, 'Survived':GBC_pred_test})\n",
    "submission_titanic_4.set_index('PassengerId',inplace=True)\n",
    "submission_titanic_4.to_csv('submission_titanic_4.csv')"
   ]
  }
 ],
 "metadata": {
  "kernelspec": {
   "display_name": "Python 3 (ipykernel)",
   "language": "python",
   "name": "python3"
  },
  "language_info": {
   "codemirror_mode": {
    "name": "ipython",
    "version": 3
   },
   "file_extension": ".py",
   "mimetype": "text/x-python",
   "name": "python",
   "nbconvert_exporter": "python",
   "pygments_lexer": "ipython3",
   "version": "3.9.12"
  }
 },
 "nbformat": 4,
 "nbformat_minor": 4
}
